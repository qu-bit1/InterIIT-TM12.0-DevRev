{
  "cells": [
    {
      "cell_type": "markdown",
      "metadata": {},
      "source": [
        "# Tree Metrics\n",
        "\n",
        "### This notebook implements tree metrics for a specific dataset"
      ]
    },
    {
      "cell_type": "markdown",
      "metadata": {},
      "source": [
        "##  Importing necessary libraries\n",
        "\n",
        "Ensure that the Python environment you are running this in has all the libraries present in [requirements.txt](requirements.txt).\n"
      ]
    },
    {
      "cell_type": "markdown",
      "metadata": {},
      "source": [
        "### Installing modules and libraries"
      ]
    },
    {
      "cell_type": "code",
      "execution_count": null,
      "metadata": {
        "id": "VJLkXs9gppST"
      },
      "outputs": [],
      "source": [
        "import typing\n",
        "import json\n",
        "import gdown"
      ]
    },
    {
      "cell_type": "markdown",
      "metadata": {
        "id": "8jjp3KLXqBwH"
      },
      "source": [
        "### Importing files"
      ]
    },
    {
      "cell_type": "code",
      "execution_count": null,
      "metadata": {},
      "outputs": [],
      "source": [
        "!gdown <predicted-values>\n",
        "!gdown <ground-truth-values>"
      ]
    },
    {
      "cell_type": "code",
      "execution_count": null,
      "metadata": {},
      "outputs": [],
      "source": [
        "predicted_outputs = 'path_to_file'\n",
        "ground_truth= 'path_to_file'"
      ]
    },
    {
      "cell_type": "code",
      "execution_count": null,
      "metadata": {},
      "outputs": [],
      "source": [
        "with open(predicted_outputs, 'r') as file:\n",
        "    pred = json.load(file)\n",
        "with open(ground_truth, 'r') as file:\n",
        "    tru = json.load(file)"
      ]
    },
    {
      "cell_type": "markdown",
      "metadata": {},
      "source": [
        "### Implementation"
      ]
    },
    {
      "cell_type": "code",
      "execution_count": null,
      "metadata": {
        "id": "PP3au1u2zWtR"
      },
      "outputs": [],
      "source": [
        "# Function generates a dependency graph and identifies free arguments from a sequence of API calls, \n",
        "# recording dependencies between calls based on argument references to previous calls ('PREV').\n",
        "\n",
        "def build_graph(call_list: typing.List):\n",
        "    \"\"\"Return the dependency graph and free argument list for the APIs used in call_list.\n",
        "    O(n^2)\n",
        "    Args:\n",
        "        call_list (typing.List): API call sequence as in the PS\n",
        "    \"\"\"\n",
        "    # breakpoint()\n",
        "    dependency_graph = {\n",
        "        i['tool_name']: set() for i in call_list\n",
        "    }\n",
        "\n",
        "    free_arguments = {\n",
        "        i['tool_name']: set() for i in call_list\n",
        "    }\n",
        "\n",
        "    for idx in range(len(call_list)-1, -1, -1):\n",
        "        # print(idx)\n",
        "        current_api = call_list[idx]\n",
        "        for argument in current_api[\"arguments\"]:\n",
        "            # debug(argument)\n",
        "            name = argument[\"argument_name\"]\n",
        "            if isinstance(argument[\"argument_value\"], str):\n",
        "              val = argument[\"argument_value\"]\n",
        "            elif isinstance(argument[\"argument_value\"],list):\n",
        "              if(argument[\"argument_value\"] != []):\n",
        "                val = argument[\"argument_value\"][0]\n",
        "              else:\n",
        "                val = \"\"\n",
        "            else:\n",
        "              val = \"\"\n",
        "\n",
        "            if 'PREV' in val:\n",
        "                prev_idx = int(val.split('[')[1].split(']')[0])\n",
        "                # debug(prev_idx)\n",
        "                dependency_graph[current_api[\"tool_name\"]].add(\n",
        "                    (name, call_list[prev_idx][\"tool_name\"]))\n",
        "            else:\n",
        "                # debug(name)\n",
        "                free_arguments[current_api[\"tool_name\"]].add((name, val))\n",
        "        # debug(dependency_graph)\n",
        "        # debug(free_arguments)\n",
        "    return dependency_graph, free_arguments"
      ]
    },
    {
      "cell_type": "code",
      "execution_count": null,
      "metadata": {
        "id": "GZRqvllZpyGp"
      },
      "outputs": [],
      "source": [
        "# Function compares if two graphs, represented as dictionaries, are structurally identical, returning True if they are, and False otherwise.\n",
        "\n",
        "def check_isomorphic(graph_1: typing.Dict, graph_2: typing.Dict):\n",
        "    if len(graph_1) != len(graph_2):\n",
        "        return False\n",
        "    for arg in graph_1:\n",
        "        if arg in graph_2:\n",
        "            if graph_1[arg] != graph_2[arg]:\n",
        "                return False\n",
        "        else:\n",
        "            return False\n",
        "    return True"
      ]
    },
    {
      "cell_type": "code",
      "execution_count": null,
      "metadata": {
        "id": "jbyXSDpsp03-"
      },
      "outputs": [],
      "source": [
        "# Function compares two sequences of API calls, returning True if they are structurally identical, and False otherwise.\n",
        "\n",
        "def compare(call_list_1: typing.List, call_list_2: typing.List, mode: str = \"ABS\"):\n",
        "    dep, arg = build_graph(call_list_1)\n",
        "    dep_nxt, arg_nxt = build_graph(call_list_2)\n",
        "    if mode == \"ABS\":\n",
        "        return check_isomorphic(dep, dep_nxt) and check_isomorphic(arg, arg_nxt)\n",
        "    else:\n",
        "        return (int(check_isomorphic(dep, dep_nxt)) + int(check_isomorphic(arg, arg_nxt)))/2"
      ]
    },
    {
      "cell_type": "code",
      "execution_count": null,
      "metadata": {},
      "outputs": [],
      "source": [
        "# Debug function\n",
        "\n",
        "DEBUG = True\n",
        "\n",
        "def debug(string):\n",
        "    if DEBUG:\n",
        "        print(string)"
      ]
    },
    {
      "cell_type": "markdown",
      "metadata": {},
      "source": [
        "### Execution"
      ]
    },
    {
      "cell_type": "code",
      "execution_count": null,
      "metadata": {
        "colab": {
          "base_uri": "https://localhost:8080/",
          "height": 480
        },
        "id": "utW7pawFroxH",
        "outputId": "ff321dfd-7126-4730-d03d-97cad2b8f3c9"
      },
      "outputs": [],
      "source": [
        "for i in range(20):\n",
        "  DEBUG = False\n",
        "  dep,  arg = build_graph(pred[0])\n",
        "  dep_nxt, arg_nxt = build_graph(tru[0])\n",
        "\n",
        "  print(compare(pred[i], tru[i]))"
      ]
    }
  ],
  "metadata": {
    "colab": {
      "provenance": []
    },
    "kernelspec": {
      "display_name": "Python 3",
      "name": "python3"
    },
    "language_info": {
      "name": "python"
    }
  },
  "nbformat": 4,
  "nbformat_minor": 0
}
