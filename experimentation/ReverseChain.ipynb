{
  "cells": [
    {
      "cell_type": "markdown",
      "metadata": {},
      "source": [
        "# Reverse Chain"
      ]
    },
    {
      "cell_type": "markdown",
      "metadata": {},
      "source": [
        "##  Importing necessary libraries\n",
        "\n",
        "Ensure that the Python environment you are running this in has all the libraries present in [requirements.txt](requirements.txt).\n"
      ]
    },
    {
      "cell_type": "code",
      "execution_count": null,
      "metadata": {
        "id": "zheZ4y1tRqNI"
      },
      "outputs": [],
      "source": [
        "import langchain\n",
        "import openai\n",
        "import json\n",
        "import os\n",
        "import pandas as pd\n",
        "import time\n",
        "\n",
        "from langchain.vectorstores import FAISS\n",
        "from langchain.embeddings import OpenAIEmbeddings\n",
        "from langchain.schema import Document\n",
        "\n",
        "from langchain.prompts import PromptTemplate\n",
        "from langchain.llms import OpenAI\n",
        "from langchain.agents import AgentExecutor\n",
        "from langchain.chains import LLMChain\n",
        "from langchain.prompts import PromptTemplate\n",
        "from langchain.schema import StrOutputParser\n",
        "from langchain.chat_models import ChatOpenAI"
      ]
    },
    {
      "cell_type": "markdown",
      "metadata": {},
      "source": [
        "## OpenAI API Key\n",
        "\n",
        "\n",
        "To set the OPENAI_API_KEY as an environment variable run the following command:\n",
        "```\n",
        "export OPENAI_API_KEY = <Your API Key>\n",
        "```\n"
      ]
    },
    {
      "cell_type": "markdown",
      "metadata": {
        "id": "6k9lp2XVyPvl"
      },
      "source": [
        "## Loading the API documentation and usage examples\n",
        "\n",
        "The required datasets [.json] -\n",
        "- API/Tool Descriptions (api_desc.json)\n",
        "- Tool Usage Example (examples.json)\n",
        "- Queries (PS_queries.json)\n",
        "  \n",
        "  These can be loaded either by \n",
        "  1. Uploading the datasets on google drive and using its id to use `gdown` method (as shown).\n",
        "  2. By directly uploading the datasets to the runtime \n"
      ]
    },
    {
      "cell_type": "code",
      "execution_count": null,
      "metadata": {
        "colab": {
          "base_uri": "https://localhost:8080/"
        },
        "id": "Fe2enqW0XPFt",
        "outputId": "eebaaa3b-f618-4c45-f770-b764ce55b7b5"
      },
      "outputs": [
        {
          "name": "stdout",
          "output_type": "stream",
          "text": [
            "Downloading...\n",
            "From: https://drive.google.com/uc?id=1gG6Ghpkjxqz7vlPjCs2pTdmOSqjt0EIM\n",
            "To: /content/api_desc.json\n",
            "100% 8.81k/8.81k [00:00<00:00, 34.0MB/s]\n",
            "Downloading...\n",
            "From: https://drive.google.com/uc?id=1nJZpWHRdowbdzdRI7ylb1RrZUV_2E6k9\n",
            "To: /content/examples.json\n",
            "100% 6.71k/6.71k [00:00<00:00, 25.2MB/s]\n"
          ]
        }
      ],
      "source": [
        "!gdown 1gG6Ghpkjxqz7vlPjCs2pTdmOSqjt0EIM\n",
        "!gdown 1nJZpWHRdowbdzdRI7ylb1RrZUV_2E6k9\n",
        "!gdown 1JCjW2f0fTsL6W7r7QjQO2FrwKNUj37ao"
      ]
    },
    {
      "cell_type": "code",
      "execution_count": null,
      "metadata": {
        "colab": {
          "base_uri": "https://localhost:8080/"
        },
        "id": "2uqvxUCaQOju",
        "outputId": "678b2bac-a1d5-481a-cb3b-600c1c16c8a1"
      },
      "outputs": [
        {
          "name": "stdout",
          "output_type": "stream",
          "text": [
            "[{'tool': 'works_list', 'description': 'Returns a list of work items matching the request', 'arguments': [{'argument_name': ' applies_to_part', 'argument_description': 'Filters for work belonging to any of the provided parts', 'argument_type': 'array of strings', 'examples': ['FEAT-123', 'ENH-123', 'PROD-123', 'CAPL-123']}, {'argument_name': 'created_by', 'argument_description': 'Filters for work created by any of these users', 'argument_type': 'array of strings', 'examples': ['DEVU-123']}, {'argument_name': 'issue.priority', 'argument_description': 'Filters for issues with any of the provided priorities. Allowed values: p0, p1, p2,p3', 'argument_type': 'array of strings', 'examples': []}, {'argument_name': 'issue.rev_orgs', 'argument_description': 'Filters for issues with any of the provided Rev organizations', 'argument_type': 'array of strings', 'examples': ['REV-123']}, {'argument_name': 'limit', 'argument_description': \"The maximum number of works to return. The default is '50'\", 'argument_type': 'integer (int32)', 'examples': []}, {'argument_name': 'owned_by', 'argument_description': 'Filters for work owned by any of these users', 'argument_type': 'array of strings', 'examples': ['DEVU-123']}, {'argument_name': 'stage.name', 'argument_description': 'Filters for records in the provided stage(s) by name', 'argument_type': 'array of strings', 'examples': []}, {'argument_name': 'ticket.needs_response', 'argument_description': 'Filters for tickets that need a response', 'argument_type': 'boolean', 'examples': []}, {'argument_name': 'ticket.rev_org', 'argument_description': 'Filters for tickets associated with any of the provided Rev organizations', 'argument_type': 'array of strings', 'examples': ['REV-123']}, {'argument_name': 'ticket.severity', 'argument_description': 'Filters for tickets with any of the provided severities. Allowed values:blocker,high, low, medium', 'argument_type': 'array of strings', 'examples': []}, {'argument_name': 'ticket.source_channel', 'argument_description': 'Filters for tickets with any of the provided source channels', 'argument_type': 'array of strings', 'examples': []}, {'argument_name': 'ticket.source_channel', 'argument_description': 'Filters for tickets with any of the provided source channels', 'argument_type': 'array of strings', 'examples': []}, {'argument_name': 'type', 'argument_description': 'Filters for work of the provided types. Allowed values issue, ticket, task', 'argument_type': 'array of strings', 'examples': []}]}, {'tool': 'summarize_objects', 'description': 'Summarizes a list of objects. The logic of how to summarize a particular object type is an internal implementation detail.', 'arguments': [{'argument_name': 'objects', 'argument_description': 'List of objects to summarize', 'argument_type': 'array of objects', 'examples': []}]}, {'tool': 'prioritize_objects', 'description': 'Summarizes a list of objects. The logic of how to summarize a particular object type is an internal implementation detail.', 'arguments': [{'argument_name': 'objects', 'argument_description': 'List of objects to summarize', 'argument_type': 'array of objects', 'examples': []}]}, {'tool': 'add_work_items_to_sprint', 'description': 'Adds the given work items to the sprint', 'arguments': [{'argument_name': 'work_ids', 'argument_description': 'A list of work item IDs to be added to the sprint.', 'argument_type': 'array of strings', 'examples': []}, {'argument_name': 'sprint_id', 'argument_description': 'The ID of the sprint to which the work items should be added', 'argument_type': 'str', 'examples': []}]}, {'tool': 'get_sprint_id', 'description': 'Returns the ID of the current sprint', 'arguments': [{'argument_name': '', 'argument_description': '', 'argument_type': '', 'examples': []}]}, {'tool': 'get_similar_work_items', 'description': 'Returns a list of work items that are similar to the given work item', 'arguments': [{'argument_name': 'work_id', 'argument_description': 'The ID of the work item for which you want to find similar items', 'argument_type': 'string', 'examples': []}]}, {'tool': 'search_object_by_name', 'description': 'Given a search string, returns the id of a matching object in the system of record. If multiple matches are found, it returns the one where the confidence is highest.', 'arguments': [{'argument_name': 'query', 'argument_description': 'The search string, could be for example customer’s name, part name, user name.', 'argument_type': 'string', 'examples': []}]}, {'tool': 'search_object_by_name', 'description': 'Given a search string, returns the id of a matching object in the system of record. If multiple matches are found, it returns the one where the confidence is highest.', 'arguments': [{'argument_name': 'query', 'argument_description': 'The search string, could be for example customer’s name, part name, user name.', 'argument_type': 'string', 'examples': []}]}, {'tool': 'create_actionable_tasks_from_text', 'description': 'Given a search string, returns the id of a matching object in the system of record. If multiple matches are found, it returns the one where the confidence is highest.', 'arguments': [{'argument_name': 'text', 'argument_description': 'The text from which the actionable insights need to be created.', 'argument_type': 'string', 'examples': []}]}, {'tool': 'create_actionable_tasks_from_text', 'description': 'Given a search string, returns the id of a matching object in the system of record. If multiple matches are found, it returns the one where the confidence is highest.', 'arguments': [{'argument_name': 'text', 'argument_description': 'The text from which the actionable insights need to be created.', 'argument_type': 'string', 'examples': []}]}, {'tool': 'who_am_i', 'description': 'Returns the ID of the current user', 'arguments': [{'argument_name': '', 'argument_description': '', 'argument_type': '', 'examples': []}]}]\n",
            "[{'Query': 'Summarize issues similar to don:core:dvrv-us-1:devo/0:issue/1', 'Solution': [{'tool_name': 'get_similar_work_items', 'arguments': [{'argument_name': 'work_id', 'argument_value': 'don:core:dvrv-us-1:devo/0:issue/1'}]}, {'tool_name': 'summarize_objects', 'arguments': [{'argument_name': 'objects', 'argument_value': '$$PREV[0]'}]}]}, {'Query': 'What is the meaning of life?', 'Solution': []}, {'Query': 'Prioritize my P0 issues and add them to the current sprint', 'Solution': [{'tool_name': 'who_am_i', 'arguments': []}, {'tool_name': 'works_list', 'arguments': [{'argument_name': 'issue.priority', 'argument_value': 'p0'}, {'argument_name': 'owned_by', 'argument_value': '$$PREV[0]'}]}, {'tool_name': 'prioritize_objects', 'arguments': [{'argument_name': 'objects', 'argument_value': '$$PREV[1]'}]}, {'tool_name': 'get_sprint_id', 'arguments': []}, {'tool_name': 'add_work_items_to_sprint', 'arguments': [{'argument_name': 'work_ids', 'argument_value': '$$PREV[2]'}, {'argument_name': 'sprint_id', 'argument_value': '$$PREV[3]'}]}]}, {'Query': 'Summarize high severity tickets from the customer UltimateCustomer', 'Solution': [{'tool_name': 'search_object_by_name', 'arguments': [{'argument_name': 'query', 'argument_value': 'UltimateCustomer'}]}, {'tool_name': 'works_list', 'arguments': [{'argument_name': 'ticket.rev_org', 'argument_value': '$$PREV[0]'}]}, {'tool_name': 'summarize_objects', 'arguments': [{'argument_name': 'objects', 'argument_value': '$$PREV[1]'}]}]}, {'Query': 'What are my all issues in the triage stage under part FEAT-123? Summarize them.', 'Solution': [{'tool_name': 'who_am_i', 'arguments': []}, {'tool_name': 'works_list', 'arguments': [{'argument_name': 'stage.name', 'argument_value': 'triage'}, {'argument_name': 'applies_to_part', 'argument_value': 'FEAT-123'}, {'argument_name': 'owned_by', 'argument_value': '$$PREV[0]'}]}, {'tool_name': 'summarize_objects', 'arguments': [{'argument_name': 'objects', 'argument_value': '$$PREV[1]'}]}]}, {'Query': 'List all high severity tickets coming in from slack from customer Cust123 and generate a summary of them.', 'Solution': [{'tool_name': 'search_object_by_name', 'arguments': [{'argument_name': 'query', 'argument_value': 'Cust123'}]}, {'tool_name': 'works_list', 'arguments': [{'argument_name': 'ticket.rev_org', 'argument_value': '$$PREV[0]'}, {'argument_name': 'ticket.severity', 'argument_value': 'high'}, {'argument_name': 'ticket.source_channel', 'argument_value': 'slack'}]}, {'tool_name': 'summarize_objects', 'arguments': [{'argument_name': 'objects', 'argument_value': '$$PREV[1]'}]}]}, {'Query': 'Get all work items similar to TKT-123, summarize them, create issues from that summary, and prioritize them', 'Solution': [{'tool_name': 'get_similar_work_items', 'arguments': [{'argument_name': 'work_id', 'argument_value': 'TKT-123'}]}, {'tool_name': 'create_actionable_tasks_from_text', 'arguments': [{'argument_name': 'text', 'argument_value': '$$PREV[0]'}]}, {'tool_name': 'prioritize_objects', 'arguments': [{'argument_name': 'objects', 'argument_value': '$$PREV[1]'}]}]}]\n"
          ]
        }
      ],
      "source": [
        "#Loading the JSON files as a list  \n",
        "\n",
        "documentation_file_path = '/content/api_desc.json'\n",
        "with open(documentation_file_path, 'r') as file:\n",
        "    documentation = json.load(file)\n",
        "\n",
        "\n",
        "examples_file_path = '/content/examples.json'\n",
        "with open(examples_file_path, 'r') as file:\n",
        "    examples = json.load(file)\n",
        "    \n",
        "queries_file_path = '/content/PS_queries.json'\n",
        "with open(queries_file_path, 'r') as file:\n",
        "    queries = json.load(file)\n",
        "\n",
        "print(documentation)\n",
        "print(examples)\n",
        "print(queries)"
      ]
    },
    {
      "cell_type": "markdown",
      "metadata": {
        "id": "U9Lik-sRykSI"
      },
      "source": [
        "## Retrievers for relevant tools and examples\n",
        "\n",
        "- The following section implements the retriever to filter out only the relevant tools and examples from the complete tool description bank and usage examples respectively.\n",
        "- The `get_tools` function returns the set of relevant tools, and their arguments based on the user query, similarily `get_examples` function returns the set of relevant tool usage examples.\n",
        "- The `retrieve_args` function returns the set of argument of a tool used for a specific query\n",
        "\n",
        "\n"
      ]
    },
    {
      "cell_type": "code",
      "execution_count": null,
      "metadata": {
        "id": "g-pOfYNCQOhH"
      },
      "outputs": [],
      "source": [
        "#Applying semantic search on the API descriptions\n",
        "API_descriptions = [\n",
        "    Document(page_content=t['description'], metadata={\"index\": i})\n",
        "    for i, t in enumerate(documentation)\n",
        "]\n",
        "#Making a vector store of the API descriptions embeddings\n",
        "API_descriptions_vector_store = FAISS.from_documents(API_descriptions, OpenAIEmbeddings())\n",
        "API_retriever = API_descriptions_vector_store.as_retriever()\n",
        "\n",
        "#Function to get the relevant documents(tools) for a query\n",
        "def get_tools(query):\n",
        "    docs = API_retriever.get_relevant_documents(query)\n",
        "    tools = [documentation[d.metadata[\"index\"]]['tool'] for d in docs]\n",
        "    arguments = [documentation[d.metadata[\"index\"]] for d in docs]\n",
        "    return tools, arguments"
      ]
    },
    {
      "cell_type": "code",
      "execution_count": null,
      "metadata": {
        "id": "5VvFzj11QOdD"
      },
      "outputs": [],
      "source": [
        "#Applying semantic search on the API usage examples\n",
        "\n",
        "API_usage_examples = [\n",
        "    Document(page_content=t['Query'], metadata={\"index\": i})\n",
        "    for i, t in enumerate(examples)\n",
        "]\n",
        "#Making a vector store of the API usage examples embeddings\n",
        "API_usage_examples_vector_score = FAISS.from_documents(API_usage_examples, OpenAIEmbeddings())\n",
        "Examples_retriever = API_usage_examples_vector_score.as_retriever()\n",
        "\n",
        "#Function to get the relevant documents(usage examples) for a query\n",
        "def get_examples(query):\n",
        "    docs = Examples_retriever.get_relevant_documents(query)\n",
        "    return [examples[d.metadata[\"index\"]] for d in docs]"
      ]
    },
    {
      "cell_type": "code",
      "execution_count": null,
      "metadata": {
        "colab": {
          "base_uri": "https://localhost:8080/"
        },
        "id": "j897MIGwnrvZ",
        "outputId": "4f572f33-566d-4405-d126-1ec6a68633c4"
      },
      "outputs": [
        {
          "data": {
            "text/plain": [
              "[{'argument_name': 'objects',\n",
              "  'argument_description': 'List of objects to summarize',\n",
              "  'argument_type': 'array of objects',\n",
              "  'examples': []}]"
            ]
          },
          "execution_count": 46,
          "metadata": {},
          "output_type": "execute_result"
        }
      ],
      "source": [
        "#Funtion to retrieve the arguments for a tool for a given query\n",
        "\n",
        "def retrieve_args(llm_tool,query):\n",
        "    _, mytools = get_tools(query)\n",
        "    for tool in mytools:\n",
        "        if tool['tool'] == llm_tool:\n",
        "            return tool['arguments']\n"
      ]
    },
    {
      "cell_type": "markdown",
      "metadata": {
        "id": "lpp88bDplnZS"
      },
      "source": [
        "# Reverse Chain Prompts\n"
      ]
    },
    {
      "cell_type": "code",
      "execution_count": null,
      "metadata": {
        "id": "B23Ltj6jloe0"
      },
      "outputs": [],
      "source": [
        "r1_template = \"\"\" We are given some APIs -\n",
        "{tools}\n",
        "If someone is saying: \"{query}\"\n",
        "Which final API should we use for this instruction?\n",
        "Only return API code. Only return one word!\"\"\""
      ]
    },
    {
      "cell_type": "code",
      "execution_count": null,
      "metadata": {
        "id": "MnK5k3nlneNq"
      },
      "outputs": [],
      "source": [
        "r2_template = \"\"\"You are an argument extractor. For each argument, you need to\n",
        "determine whether you can extract the value from user input\n",
        "directly or you need to use an API to get the value. The output\n",
        "should be in json format, key is the argument, and value is the\n",
        "value of argument or the API name, return None if you cannot get\n",
        "value or API name. Return only the json object.\n",
        "The Arguments to be extracted are:\n",
        "{args}\n",
        "The API you can use includes:\n",
        "{tools}\n",
        "......\n",
        "Now, Let's start.\n",
        "=>\n",
        "If someone is saying: \"{query}\"\n",
        "Arguments :\"\"\""
      ]
    },
    {
      "cell_type": "markdown",
      "metadata": {},
      "source": [
        "# Execution"
      ]
    },
    {
      "cell_type": "code",
      "execution_count": null,
      "metadata": {
        "id": "atv2CMYclBOL"
      },
      "outputs": [],
      "source": [
        "#Set the model you want to generate the solution(s) with\n",
        "model = \"gpt-4\"\n",
        "\n",
        "#Creating empty dataframes to store the results\n",
        "df2 = pd.DataFrame(columns=['query', 'f_output','time'])"
      ]
    },
    {
      "cell_type": "code",
      "execution_count": null,
      "metadata": {
        "id": "sZLboRrhpUy6"
      },
      "outputs": [],
      "source": [
        "from collections import deque\n",
        "def hasnoargs(args):\n",
        "    if len(args)>1:\n",
        "        return False\n",
        "    else:\n",
        "        if (args[0]['argument_name']):\n",
        "            return False\n",
        "        else:\n",
        "            return True\n",
        "\n",
        "# Funtion using the templates to generate the solution(s) for a query with the total computation time\n",
        "def get_results_r(Query,model_name=model,temp=0.1):\n",
        "    global r1_template, r2_template\n",
        "    start = time.time()\n",
        "    \n",
        "    fin_solution = {'tools':[]}\n",
        "    _,Tools = get_tools(Query)\n",
        "    tool_names = [tool['tool'] for tool in Tools]\n",
        "    r1_prompt = PromptTemplate.from_template(template=r1_template)\n",
        "    r1_chain = r1_prompt | ChatOpenAI(temperature=temp,model_name=model_name) | StrOutputParser()\n",
        "    r2_prompt = PromptTemplate.from_template(template=r2_template)\n",
        "    r2_chain = r2_prompt | ChatOpenAI(temperature=temp,model_name=model_name) | StrOutputParser()\n",
        "    last_tool = r1_chain.invoke({\"query\":Query, \"tools\":Tools})\n",
        "    print(f\"Output 1: {last_tool}\")\n",
        "    tools_left = deque([last_tool,])\n",
        "    # df.loc[len(df.index)] = [planning_prompt.format(query=Query, tools=Tools), Solution1]\n",
        "    i=0\n",
        "    while (i<10 and tools_left):\n",
        "        last_tool = tools_left.popleft()\n",
        "        cur_args = retrieve_args(last_tool,Query)\n",
        "        if hasnoargs(cur_args):\n",
        "            fin_solution['tools'] = [{'tool':last_tool,'arguments':[]},] + fin_solution['tools']\n",
        "            continue\n",
        "        Solution2 = eval(r2_chain.invoke({\"query\":Query, \"tools\":Tools, \"args\":cur_args}).strip().strip('```').strip('json'))\n",
        "        print(f\"Output {2+i}: {Solution2}\")\n",
        "        for arg in Solution2.keys():\n",
        "            if Solution2[arg] in tool_names:\n",
        "                tools_left.append(Solution2[arg])\n",
        "        fin_solution['tools'] = [{'tool':last_tool,'arguments':Solution2},] + fin_solution['tools']\n",
        "        i += 1\n",
        "    print(fin_solution)\n",
        "    end = time.time()\n",
        "    time = end-start \n",
        "    \n",
        "    return fin_solution , time"
      ]
    },
    {
      "cell_type": "code",
      "execution_count": null,
      "metadata": {
        "colab": {
          "base_uri": "https://localhost:8080/"
        },
        "id": "6mJ1ktDdrE-C",
        "outputId": "0199183b-353b-47a2-bd0c-4aea88b3e1ef"
      },
      "outputs": [
        {
          "name": "stdout",
          "output_type": "stream",
          "text": [
            "Output 1: add_work_items_to_sprint\n",
            "Output 2: {'work_ids': 'get_similar_work_items', 'sprint_id': 'get_sprint_id'}\n",
            "Output 3: {'work_id': 'WK-789', 'work_ids': 'get_similar_work_items', 'sprint_id': 'get_sprint_id'}\n",
            "Output 4: {'work_id': 'WK-789'}\n",
            "{'tools': [{'tool': 'get_sprint_id', 'arguments': []}, {'tool': 'get_similar_work_items', 'arguments': {'work_id': 'WK-789'}}, {'tool': 'get_sprint_id', 'arguments': []}, {'tool': 'get_similar_work_items', 'arguments': {'work_id': 'WK-789', 'work_ids': 'get_similar_work_items', 'sprint_id': 'get_sprint_id'}}, {'tool': 'add_work_items_to_sprint', 'arguments': {'work_ids': 'get_similar_work_items', 'sprint_id': 'get_sprint_id'}}]}\n"
          ]
        }
      ],
      "source": [
        "for query in queries:\n",
        "  f_output ,time_taken , cost ,_= get_results_r(query)\n",
        "  f_output = f_output.strip(\"```\").lstrip(\"json\")\n",
        "  df2 = df2.append({'query': query, 'f_output': f_output, 'time': time_taken}, ignore_index=True)\n",
        "  time.sleep(5)"
      ]
    },
    {
      "cell_type": "code",
      "execution_count": null,
      "metadata": {},
      "outputs": [],
      "source": [
        "#exporting the saved results to a xlsx file\n",
        "\n",
        "df2.to_excel('results.xlsx')"
      ]
    }
  ],
  "metadata": {
    "colab": {
      "provenance": []
    },
    "kernelspec": {
      "display_name": "Python 3",
      "name": "python3"
    },
    "language_info": {
      "name": "python"
    }
  },
  "nbformat": 4,
  "nbformat_minor": 0
}
